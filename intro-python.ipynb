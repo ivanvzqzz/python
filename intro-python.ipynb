{
  "cells": [
    {
      "cell_type": "markdown",
      "metadata": {
        "id": "xptkVd8Q2N_H"
      },
      "source": [
        "<a href=\"https://colab.research.google.com/github/mcd-unison/material-programacion/blob/main/intro-python.ipynb\" target=\"_parent\"><img src=\"https://colab.research.google.com/assets/colab-badge.svg\" alt=\"Open In Colab\"/></a>"
      ]
    },
    {
      "cell_type": "markdown",
      "metadata": {
        "id": "JedyXGqy2N_L"
      },
      "source": [
        "<center>\n",
        "<p><img src=\"https://mcd.unison.mx/wp-content/themes/awaken/img/logo_mcd.png\" width=\"100\">\n",
        "</p>\n",
        "\n",
        "\n",
        "\n",
        "# Curso Propedéutico en *Programación*\n",
        "\n",
        "## Introducción a `python` resolviendo preguntas\n",
        "\n",
        "\n",
        "**Julio Waissman Vilanova**\n",
        "\n"
      ]
    },
    {
      "cell_type": "markdown",
      "metadata": {
        "id": "ISa6DuOS2N_O"
      },
      "source": [
        "### Tipos\n",
        "\n",
        "¿Cuales son los tipos de datos básicos? Revisa los tipos siguientes:\n",
        "\n",
        "1. Tipos numéricos `int`, `float`, `complex`\n",
        "2. Cadenas de caracteres\n",
        "3. Tuplas\n",
        "4. Listas\n",
        "5. Diccionarios\n",
        "6. Conjuntos\n",
        "\n",
        "Da ejemplo de sobrecarga de operadores (en particular `+` y `*`)\n",
        "\n"
      ]
    },
    {
      "cell_type": "code",
      "execution_count": 1,
      "metadata": {
        "id": "zYfczTh02N_R",
        "outputId": "17409d48-701f-4eee-950b-b9a5375286ab",
        "colab": {
          "base_uri": "https://localhost:8080/"
        }
      },
      "outputs": [
        {
          "output_type": "stream",
          "name": "stdout",
          "text": [
            "string\n",
            "strstrstr\n",
            "inginginging\n",
            "strstrstrstringinging\n"
          ]
        }
      ],
      "source": [
        "a = 'str'\n",
        "b = 'ing'\n",
        "\n",
        "print(a+b)\n",
        "\n",
        "c = 3\n",
        "d = 4\n",
        "\n",
        "print(c*a)\n",
        "print(d*b)\n",
        "print(d*a + c*b)"
      ]
    },
    {
      "cell_type": "markdown",
      "metadata": {
        "id": "EPr7EUOK2N_U"
      },
      "source": [
        "¿Que significa que unos tipos sean *mutables* y otros *inmutables*?\n",
        "\n",
        "Realiza un pequeño programa donde quede claro lo que significa que un tipo de datos sea mutable, e ilustra el uso del método `copy.deepcopy()`."
      ]
    },
    {
      "cell_type": "code",
      "execution_count": 3,
      "metadata": {
        "id": "kCm-hmVu2N_V",
        "outputId": "983a17d9-2ec8-4ab6-a9b2-a68c84a3b70d",
        "colab": {
          "base_uri": "https://localhost:8080/"
        }
      },
      "outputs": [
        {
          "output_type": "stream",
          "name": "stdout",
          "text": [
            "Valor inmutable:\n",
            "a =  10\n",
            "b =  10\n",
            "Lista mutable:\n",
            "lista1 =  [1, 2, 3, 4]\n",
            "lista2 =  [1, 2, 3, 4]\n",
            "Lista original =  [[10, 21, 3, 1], [2, 4, 9]]\n",
            "Lista copy =  [[10, 21, 3], [2, 4, 9]]\n"
          ]
        }
      ],
      "source": [
        "import copy\n",
        "\n",
        "a = 10 # Valor inmutable\n",
        "b = a\n",
        "\n",
        "print(\"Valor inmutable:\")\n",
        "print(\"a = \", a)\n",
        "print(\"b = \", b)\n",
        "\n",
        "# Las listas son mutables\n",
        "\n",
        "lista1 = [1, 2, 3]\n",
        "lista2 = lista1\n",
        "lista2.append(4)\n",
        "\n",
        "print(\"Lista mutable:\")\n",
        "print(\"lista1 = \", lista1)\n",
        "print(\"lista2 = \", lista2)\n",
        "\n",
        "# Usando copy.deepcopy()\n",
        "otra_lista = [[10, 21, 3], [2, 4, 9]]\n",
        "copy_lista = copy.deepcopy(otra_lista)\n",
        "\n",
        "otra_lista[0].append(1)\n",
        "\n",
        "print(\"Lista original = \", otra_lista)\n",
        "print(\"Lista copy = \", copy_lista)"
      ]
    },
    {
      "cell_type": "markdown",
      "metadata": {
        "id": "pdyFbeFM2N_X"
      },
      "source": [
        "### *Comprehension* de listas, conjuntos y diccionarios\n",
        "\n",
        "Escribe, en una sola linea, una expresión que genere una lista con todos los números enteros que se encuentran entre $1$ y $n$\n",
        "que sean divisibles por $3$ y $7$ y que el dígito menos significativo del número sea $6$."
      ]
    },
    {
      "cell_type": "code",
      "execution_count": 7,
      "metadata": {
        "id": "HlPeIsa42N_Y",
        "outputId": "656e5f58-0f5f-485e-ed59-5a8f4eb185df",
        "colab": {
          "base_uri": "https://localhost:8080/"
        }
      },
      "outputs": [
        {
          "output_type": "stream",
          "name": "stdout",
          "text": [
            "[126, 336, 546, 756, 966, 1176, 1386, 1596, 1806, 2016, 2226, 2436, 2646, 2856, 3066, 3276, 3486, 3696, 3906, 4116, 4326, 4536, 4746, 4956, 5166, 5376, 5586, 5796, 6006, 6216, 6426, 6636, 6846, 7056, 7266, 7476, 7686, 7896, 8106, 8316, 8526, 8736, 8946, 9156, 9366, 9576, 9786, 9996]\n"
          ]
        }
      ],
      "source": [
        "n = 10_000\n",
        "\n",
        "numeros = [i for i in range(1, n+1) if i % 3 == 0 and i % 7 == 0 and i % 10 == 6]\n",
        "print(numeros)"
      ]
    },
    {
      "cell_type": "markdown",
      "metadata": {
        "id": "KJHthR3K2N_c"
      },
      "source": [
        "### Funciones\n",
        "\n",
        "1.   List item\n",
        "2.   List item\n",
        "\n",
        "\n",
        "\n",
        "Escribe una función que:\n",
        "\n",
        "1. reciba una lista de elementos (letras, números, lo que sea),\n",
        "2. cuente la ocurrencia de cada elemento en la lista,\n",
        "3. devuelva las ocurrencias en forma de diccionario,\n",
        "4. si imprime es True, imprima un histograma de ocurrencias, por ejemplo:\n",
        "\n",
        "```python\n",
        "\n",
        "lista = [1,'a',1, 13, 'hola', 'a', 1, 1, 'a', 1]\n",
        "\n",
        "d = funcion_ejemplo(lista, imprime = True)\n",
        "\n",
        "1    \t\t***** \t(5 -> 50%)\n",
        "'a'  \t\t***   \t(3 -> 30%)\n",
        "13\t\t*\t(1 -> 10%)\n",
        "'hola'\t\t*\t(1 -> 10%)\n",
        "\n",
        "```"
      ]
    },
    {
      "cell_type": "code",
      "execution_count": 10,
      "metadata": {
        "id": "4A6LzVZ02N_g"
      },
      "outputs": [],
      "source": [
        "# Escribe la función aquí\n",
        "\n",
        "def funcion_ejemplo(lista, imprime=True):\n",
        "    from collections import Counter\n",
        "\n",
        "    # Contar ocurrencias de cada elemento en la lista\n",
        "    ocurrencias = Counter(lista)\n",
        "\n",
        "    # Imprimir histograma si se requiere\n",
        "    if imprime:\n",
        "        for elemento, cantidad in ocurrencias.items():\n",
        "            print(f\"{elemento}: {'*' * cantidad}\")\n",
        "\n",
        "    return dict(ocurrencias)\n",
        "\n"
      ]
    },
    {
      "cell_type": "code",
      "execution_count": 11,
      "metadata": {
        "id": "gSGMxqub2N_j",
        "outputId": "9c80265b-ef9a-49c5-c3e9-e539d0c179b7",
        "colab": {
          "base_uri": "https://localhost:8080/"
        }
      },
      "outputs": [
        {
          "output_type": "stream",
          "name": "stdout",
          "text": [
            "1: *****\n",
            "a: ***\n",
            "13: *\n",
            "hola: *\n",
            "{1: 5, 'a': 3, 13: 1, 'hola': 1}\n"
          ]
        }
      ],
      "source": [
        "# Realiza pruebas aquí\n",
        "lista = [1,'a',1, 13, 'hola', 'a', 1, 1, 'a', 1]\n",
        "d = funcion_ejemplo(lista, imprime = True)\n",
        "print(d)"
      ]
    },
    {
      "cell_type": "markdown",
      "metadata": {
        "id": "4Da9w71L2N_k"
      },
      "source": [
        "*Escribe* una función que modifique un diccionario y regrese el diccionario modificado y una copia del original, donde cada entrada\n",
        "del diccionario sea una lista de valores. Ten en cuenta que si una entrada del diccionario es de tipo mutable, al modificarlo en la\n",
        "copia se modifica el original. Utiliza el modulo `copy` para evitar este problema. Ejemplo de la función:\n",
        "\n",
        "```python\n",
        "dic1 = {'Pepe':[12, 'enero', 1980], 'Carolina':[15,'mayo',1975],'Paco':[10,'nov',1970]}\n",
        "dic2 = fundicos(dic1, 'Pepe', 1, 'febrero')\n",
        "\n",
        "print(dic1)\n",
        "{'Pepe':[12, 'enero', 1980], 'Carolina':[15,'mayo',1975],'Paco':[10,'nov',1970]}\n",
        "\n",
        "print(dic2)\n",
        "{'Pepe':[12, 'febrero', 1980], 'Carolina':[15,'mayo',1975],'Paco':[10,'nov',1970]}\n",
        "```"
      ]
    },
    {
      "cell_type": "code",
      "execution_count": 21,
      "metadata": {
        "id": "0gq651km2N_l"
      },
      "outputs": [],
      "source": [
        "# Escribe la función fundicos aquí\n",
        "def fundicos(diccionario, clave, indice, nuevo_valor):\n",
        "    # Copia del diccionario original\n",
        "    diccionario_copia = copy.deepcopy(diccionario)\n",
        "\n",
        "    # Modificar la copia\n",
        "    if clave in diccionario_copia and isinstance(diccionario_copia[clave], list):\n",
        "        diccionario_copia[clave][indice] = nuevo_valor\n",
        "\n",
        "    return diccionario_copia\n",
        "\n",
        "# Ejemplo de uso\n",
        "dic1 = {'Pepe': [12, 'enero', 1980], 'Carolina': [15, 'mayo', 1975], 'Paco': [10, 'nov', 1970]}\n",
        "dic2 = fundicos(dic1, 'Pepe', 1, 'febrero')"
      ]
    },
    {
      "cell_type": "code",
      "execution_count": 23,
      "metadata": {
        "id": "OwmmvVBi2N_n",
        "outputId": "9a53aac0-8909-43c1-e0f5-68ac92b5cb5e",
        "colab": {
          "base_uri": "https://localhost:8080/"
        }
      },
      "outputs": [
        {
          "output_type": "stream",
          "name": "stdout",
          "text": [
            "{'Pepe': [12, 'enero', 1980], 'Carolina': [15, 'mayo', 1975], 'Paco': [10, 'nov', 1970]}\n",
            "{'Pepe': [12, 'febrero', 1980], 'Carolina': [15, 'mayo', 1975], 'Paco': [10, 'nov', 1970]}\n",
            "{'Pepe': [12, 'enero', 1980], 'Carolina': [22, 'mayo', 1975], 'Paco': [10, 'nov', 1970]}\n"
          ]
        }
      ],
      "source": [
        "# Realiza pruebas de fundicos aquí\n",
        "dic1 = {'Pepe':[12, 'enero', 1980], 'Carolina':[15,'mayo',1975],'Paco':[10,'nov',1970]}\n",
        "dic2 = fundicos(dic1, 'Pepe', 1, 'febrero')\n",
        "dic3 = fundicos(dic1, 'Carolina', 0, 22)\n",
        "\n",
        "print(dic1)\n",
        "print(dic2)\n",
        "print(dic3)"
      ]
    },
    {
      "cell_type": "markdown",
      "metadata": {
        "id": "h_JtI_kl2N_o"
      },
      "source": [
        "### Generadores\n",
        "\n",
        "Escribe un generador que reciba una lista y genere todas las permutaciones que se puedan hacer con los elementos de la lista"
      ]
    },
    {
      "cell_type": "code",
      "execution_count": 24,
      "metadata": {
        "id": "afDcFA_52N_o"
      },
      "outputs": [],
      "source": [
        "# Escribe aqui fun1\n",
        "\n",
        "def permutaciones(lista):\n",
        "    # Crear una lista de índices\n",
        "    n = len(lista)\n",
        "    indices = list(range(n))\n",
        "    ciclos = list(range(n, 0, -1))\n",
        "\n",
        "    yield [lista[i] for i in indices]\n",
        "\n",
        "    while n:\n",
        "        for i in reversed(range(n)):\n",
        "            ciclos[i] -= 1\n",
        "            if ciclos[i] == 0:\n",
        "                indices[i:] = indices[i+1:] + indices[i:i+1]\n",
        "                ciclos[i] = n - i\n",
        "            else:\n",
        "                j = ciclos[i]\n",
        "                indices[i], indices[-j] = indices[-j], indices[i]\n",
        "                yield [lista[k] for k in indices]\n",
        "                break\n",
        "        else:\n",
        "            return\n",
        "    \"\"\"\n",
        "    Permutaciones de los elementos de una lista.\n",
        "\n",
        "    Devuelve un generador con todas las permutaciones posibles de los elementos de la lista de entrada\n",
        "    \"\"\"\n",
        "    #TODO: Implementar la función"
      ]
    },
    {
      "cell_type": "code",
      "execution_count": 25,
      "metadata": {
        "id": "EC0m0NqV2N_p",
        "outputId": "a832f631-aed9-424a-b01b-a328c5dde8ff",
        "colab": {
          "base_uri": "https://localhost:8080/"
        }
      },
      "outputs": [
        {
          "output_type": "stream",
          "name": "stdout",
          "text": [
            "['a', 'b', 'c', 'd']\n",
            "['a', 'b', 'd', 'c']\n",
            "['a', 'c', 'b', 'd']\n",
            "['a', 'c', 'd', 'b']\n",
            "['a', 'd', 'b', 'c']\n",
            "['a', 'd', 'c', 'b']\n",
            "['b', 'a', 'c', 'd']\n",
            "['b', 'a', 'd', 'c']\n",
            "['b', 'c', 'a', 'd']\n",
            "['b', 'c', 'd', 'a']\n",
            "['b', 'd', 'a', 'c']\n",
            "['b', 'd', 'c', 'a']\n",
            "['c', 'a', 'b', 'd']\n",
            "['c', 'a', 'd', 'b']\n",
            "['c', 'b', 'a', 'd']\n",
            "['c', 'b', 'd', 'a']\n",
            "['c', 'd', 'a', 'b']\n",
            "['c', 'd', 'b', 'a']\n",
            "['d', 'a', 'b', 'c']\n",
            "['d', 'a', 'c', 'b']\n",
            "['d', 'b', 'a', 'c']\n",
            "['d', 'b', 'c', 'a']\n",
            "['d', 'c', 'a', 'b']\n",
            "['d', 'c', 'b', 'a']\n"
          ]
        }
      ],
      "source": [
        "# Realiza pruebas de fun2 aquí\n",
        "for p in permutaciones(['a', 'b', 'c', 'd']):\n",
        "    print(p)"
      ]
    },
    {
      "cell_type": "markdown",
      "metadata": {
        "id": "Fq4qUN5h2N_q"
      },
      "source": [
        "Ahora escribe una funcipn que reciba 4 digitos del 0 al 9, y devuelva una lista con todas las horas váidas que se puedan hacer con estos dígitos en forma de lista de strings con la forma `\"HH:MM\"`."
      ]
    },
    {
      "cell_type": "code",
      "execution_count": 26,
      "metadata": {
        "id": "ulr6tAli2N_q"
      },
      "outputs": [],
      "source": [
        "def horas_validas(lista):\n",
        "    # Asegurarse de que tenemos exactamente 4 dígitos y que están en el rango 0-9\n",
        "    if len(lista) != 4 or any(d < 0 or d > 9 for d in lista):\n",
        "        raise ValueError(\"Se requieren exactamente cuatro dígitos entre 0 y 9.\")\n",
        "\n",
        "    horas_posibles = set()\n",
        "\n",
        "    # Crear combinaciones iterativas de los 4 dígitos para HH y MM\n",
        "    for i in range(4):\n",
        "        for j in range(4):\n",
        "            if i != j:\n",
        "                for k in range(4):\n",
        "                    for l in range(4):\n",
        "                        if k != l and k != i and k != j and l != i and l != j:\n",
        "                            hh = f\"{lista[i]}{lista[j]}\"\n",
        "                            mm = f\"{lista[k]}{lista[l]}\"\n",
        "                            hh_int = int(hh)\n",
        "                            mm_int = int(mm)\n",
        "                            if 0 <= hh_int < 24 and 0 <= mm_int < 60:\n",
        "                                horas_posibles.add(f\"{hh}:{mm}\")\n",
        "\n",
        "    return sorted(horas_posibles)\n",
        "\n",
        "    \"\"\"\n",
        "    Docstring a comentar correctamente\n",
        "    \"\"\"\n",
        "    #TODO: Implementar la función"
      ]
    },
    {
      "cell_type": "markdown",
      "metadata": {
        "id": "l0IOMhW22N_r"
      },
      "source": [
        "Validando:"
      ]
    },
    {
      "cell_type": "code",
      "execution_count": 27,
      "metadata": {
        "id": "x_3V4hwD2N_s",
        "outputId": "25679a3c-5cd6-4b01-8897-fc874573d437",
        "colab": {
          "base_uri": "https://localhost:8080/"
        }
      },
      "outputs": [
        {
          "output_type": "stream",
          "name": "stdout",
          "text": [
            "['12:34', '12:43', '13:24', '13:42', '14:23', '14:32', '21:34', '21:43', '23:14', '23:41']\n"
          ]
        }
      ],
      "source": [
        "print(horas_validas([1,2,3,4]))"
      ]
    },
    {
      "cell_type": "markdown",
      "metadata": {
        "id": "r4Vh2uqy2N_s"
      },
      "source": [
        "Escribe una función, lo más compacta posible, que escoja entre los 3 patrones ascii a continuación, e imprima en pantalla\n",
        "el deseado, pero de dimensión $n$ ($n \\ge 4$), toma en cuanta que para algunos valores de $n$ habrá\n",
        "algún(os) patrones que no se puedan hacer.\n",
        "\n",
        "```\n",
        "          *             ++++           oooooooo\n",
        "          **            ++++           ooo  ooo\n",
        "          ***           ++++           oo    oo\n",
        "          ****          ++++           o      o\n",
        "          *****             ++++       o      o\n",
        "          ******            ++++       oo    oo\n",
        "          *******           ++++       ooo  ooo\n",
        "          ********          ++++       oooooooo\n",
        "\n",
        "```"
      ]
    },
    {
      "cell_type": "code",
      "execution_count": null,
      "metadata": {
        "id": "ItUx0rW42N_s"
      },
      "outputs": [],
      "source": [
        "# Escribe aquí la función\n",
        "# No entendí el ejercicio :("
      ]
    },
    {
      "cell_type": "code",
      "execution_count": null,
      "metadata": {
        "id": "wmzLmeTQ2N_s"
      },
      "outputs": [],
      "source": [
        "#Realiza pruebas aquí\n"
      ]
    },
    {
      "cell_type": "markdown",
      "metadata": {
        "id": "i2Ou_N5K2N_t"
      },
      "source": [
        "### Clases y objetos\n",
        "\n",
        "Diseña una clase Matriz con las siguientes características:\n",
        "\n",
        "1. Como inicialización de un objeto es necesario conocer $n$, $m$ y tipo. En caso de no proporcionar $m$ la matriz se asume cuadrada de $n \\times n$. En caso de no proporcionar $n$ la matriz tendrá una dimensión de $1 \\times 1$.\n",
        "2. De no especificarse todos los elementos se inicializan a 0, a menos que exista un tipo especial ( `unos` o `diag` por el momento).\n",
        "3. Implementa con sobrecarga la suma de matrices, la multiplicación de matrices y la multiplicación por un escalar.\n",
        "4. Implementa como métodos eliminar columna y eliminar fila.   \n",
        "5. Programa la representación visual de la matriz.\n",
        "6. Ten en cuenta tambien el manejo de errores.\n",
        "\n",
        "\n",
        "Ejemplo de uso:\n",
        "\n",
        "```\n",
        ">>> A = Matriz(n=3, m=4)\n",
        "\n",
        ">>> print(A)\n",
        "0 0 0 0\n",
        "0 0 0 0\n",
        "0 0 0 0\n",
        "\n",
        ">>> A = A.quitafila(2)\n",
        "\n",
        ">>> print(A)\n",
        "0 0 0 0\n",
        "0 0 0 0\n",
        "\n",
        ">>> B = Matriz(4,4,'diag')\n",
        "\n",
        ">>> print(B)\n",
        "1 0 0 0\n",
        "0 1 0 0\n",
        "0 0 1 0\n",
        "0 0 0 1\n",
        "\n",
        ">>> C = Matriz(4,1,'unos')\n",
        "\n",
        ">>> print(C)\n",
        "1\n",
        "1\n",
        "1\n",
        "1\n",
        "\n",
        ">>> D = 3 * B * C\n",
        "\n",
        ">>> print(D)\n",
        "3\n",
        "3\n",
        "3\n",
        "3\n",
        "\n",
        ">>> E = 3 * B + C\n",
        "error \"No seas menso, si no son de la misma dimensión las matrices no se pueden sumar\"\n",
        "```"
      ]
    },
    {
      "cell_type": "code",
      "execution_count": null,
      "metadata": {
        "id": "e28nmRRW2N_t"
      },
      "outputs": [],
      "source": [
        "# Desarrolla aqui la clase\n",
        "# No salió :("
      ]
    },
    {
      "cell_type": "code",
      "execution_count": null,
      "metadata": {
        "id": "QSKtbHcy2N_v"
      },
      "outputs": [],
      "source": [
        "# Realiza las pruebas a la clase aquí\n",
        "\n",
        "A = Matriz(n=3, m=4)\n",
        "print('A =', A)\n",
        "\n",
        "A = A.quitafila(2)\n",
        "print('A = ', A)\n",
        "\n",
        "B = Matriz(4,4,'diag')\n",
        "print('B = ', B)\n",
        "\n",
        "C = Matriz(4,1,'unos')\n",
        "print('C =', C)\n",
        "\n",
        "D = 3 * B * C\n",
        "print('D = ', D)\n",
        "\n",
        "E = 3 * B + C\n",
        "print('E = ', E)"
      ]
    }
  ],
  "metadata": {
    "kernelspec": {
      "display_name": "ing-caract",
      "language": "python",
      "name": "python3"
    },
    "language_info": {
      "codemirror_mode": {
        "name": "ipython",
        "version": 3
      },
      "file_extension": ".py",
      "mimetype": "text/x-python",
      "name": "python",
      "nbconvert_exporter": "python",
      "pygments_lexer": "ipython3",
      "version": "3.8.13"
    },
    "orig_nbformat": 4,
    "colab": {
      "provenance": []
    }
  },
  "nbformat": 4,
  "nbformat_minor": 0
}